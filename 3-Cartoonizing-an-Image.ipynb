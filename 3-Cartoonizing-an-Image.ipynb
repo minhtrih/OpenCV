{
 "cells": [
  {
   "cell_type": "markdown",
   "metadata": {},
   "source": [
    "# Accessing the webcam"
   ]
  },
  {
   "cell_type": "code",
   "execution_count": null,
   "metadata": {},
   "outputs": [],
   "source": [
    "import cv2\n",
    "cap = cv2.VideoCapture(0)\n",
    "# Check if the webcam is opened correctly\n",
    "if not cap.isOpened():\n",
    "    raise IOError(\"Cannot open webcam\")\n",
    "while True:\n",
    "    ret, frame = cap.read()\n",
    "    frame = cv2.resize(frame, None, fx=0.5, fy=0.5, interpolation=cv2.INTER_AREA)\n",
    "    cv2.imshow('Input', frame)\n",
    "    c = cv2.waitKey(1)\n",
    "    if c == 27:\n",
    "        break\n",
    "cap.release()\n",
    "cv2.destroyAllWindows()"
   ]
  },
  {
   "cell_type": "code",
   "execution_count": null,
   "metadata": {},
   "outputs": [],
   "source": [
    "import cv2\n",
    "import numpy as np\n",
    "def draw_rectangle(event, x, y, flags, params):\n",
    "   global x_init, y_init, drawing, top_left_pt, bottom_right_pt\n",
    "   if event == cv2.EVENT_LBUTTONDOWN:\n",
    "       drawing = True\n",
    "       x_init, y_init = x, y\n",
    "   elif event == cv2.EVENT_MOUSEMOVE:\n",
    "       if drawing:\n",
    "           top_left_pt = (min(x_init, x), min(y_init, y))\n",
    "           bottom_right_pt = (max(x_init, x), max(y_init, y))\n",
    "           img[y_init:y, x_init:x] = 255 - img[y_init:y, x_init:x]\n",
    "   elif event == cv2.EVENT_LBUTTONUP:\n",
    "       drawing = False\n",
    "       top_left_pt = (min(x_init, x), min(y_init, y))\n",
    "       bottom_right_pt = (max(x_init, x), max(y_init, y))\n",
    "       img[y_init:y, x_init:x] = 255 - img[y_init:y, x_init:x]\n",
    "if __name__=='__main__':\n",
    "    drawing = False\n",
    "    top_left_pt, bottom_right_pt = (-1,-1), (-1,-1)\n",
    "    cap = cv2.VideoCapture(0)\n",
    "    # Check if the webcam is opened correctly\n",
    "    if not cap.isOpened():\n",
    "       raise IOError(\"Cannot open webcam\")\n",
    "    cv2.namedWindow('Webcam')\n",
    "    cv2.setMouseCallback('Webcam', draw_rectangle)\n",
    "    while True:\n",
    "        ret, frame = cap.read()\n",
    "        img = cv2.resize(frame, None, fx=0.5, fy=0.5, interpolation=cv2.INTER_AREA)\n",
    "        (x0,y0), (x1,y1) = top_left_pt, bottom_right_pt\n",
    "        img[y0:y1, x0:x1] = 255 - img[y0:y1, x0:x1]\n",
    "        cv2.imshow('Webcam', img)\n",
    "        c = cv2.waitKey(1)\n",
    "        if c == 27:\n",
    "            break\n",
    "    cap.release()\n",
    "    cv2.destroyAllWindows()"
   ]
  },
  {
   "cell_type": "code",
   "execution_count": null,
   "metadata": {},
   "outputs": [],
   "source": [
    "import cv2\n",
    "import numpy as np\n",
    "img = cv2.imread('./sample1.jpg')\n",
    "rows, cols = img.shape[:2]\n",
    "\n",
    "# Convert image to grayscale\n",
    "img_gray = cv2.cvtColor(img, cv2.COLOR_BGR2GRAY)\n",
    "cv2.imshow('COLOR_BGR2GRAY', img_gray)\n",
    "\n",
    "# Apply median filter to the grayscale image\n",
    "img_gray = cv2.medianBlur(img_gray, 7)\n",
    "cv2.imshow('grayscale', img_gray)\n",
    "\n",
    "# Detect edges in the image and threshold it\n",
    "edges = cv2.Laplacian(img_gray, cv2.CV_8U, ksize=5)\n",
    "cv2.imshow('Detect edges', edges)\n",
    "\n",
    "cv2.waitKey(0)"
   ]
  },
  {
   "cell_type": "code",
   "execution_count": null,
   "metadata": {},
   "outputs": [],
   "source": [
    "import cv2\n",
    "import numpy as np\n",
    "img = cv2.imread('./sample1.jpg')\n",
    "\n",
    "# Gaussian làm ảnh mờ đi\n",
    "img_gaussian = cv2.GaussianBlur(img, (13,13), 0)\n",
    "\n",
    "# Bilateral làm ảnh cảm giác smooth và nổi bật các cạnh hơn\n",
    "img_bilateral = cv2.bilateralFilter(img, 13, 70, 50)\n",
    "\n",
    "cv2.imshow('Input', img)\n",
    "cv2.imshow('Gaussian filter', img_gaussian)\n",
    "cv2.imshow('Bilateral filter', img_bilateral)\n",
    "cv2.waitKey()"
   ]
  },
  {
   "cell_type": "code",
   "execution_count": 1,
   "metadata": {},
   "outputs": [
    {
     "data": {
      "text/plain": [
       "'4.1.0'"
      ]
     },
     "execution_count": 1,
     "metadata": {},
     "output_type": "execute_result"
    }
   ],
   "source": [
    "import cv2\n",
    "cv2.__version__"
   ]
  },
  {
   "cell_type": "code",
   "execution_count": 5,
   "metadata": {},
   "outputs": [
    {
     "ename": "error",
     "evalue": "OpenCV(3.4.3) /Users/travis/build/skvark/opencv-python/opencv/modules/imgproc/src/resize.cpp:4044: error: (-215:Assertion failed) !ssize.empty() in function 'resize'\n",
     "output_type": "error",
     "traceback": [
      "\u001b[0;31m---------------------------------------------------------------------------\u001b[0m",
      "\u001b[0;31merror\u001b[0m                                     Traceback (most recent call last)",
      "\u001b[0;32m<ipython-input-5-5aa12332e9fe>\u001b[0m in \u001b[0;36m<module>\u001b[0;34m\u001b[0m\n\u001b[1;32m      9\u001b[0m \u001b[0mframe\u001b[0m \u001b[0;34m=\u001b[0m \u001b[0mcv2\u001b[0m\u001b[0;34m.\u001b[0m\u001b[0mimread\u001b[0m\u001b[0;34m(\u001b[0m\u001b[0;34m'./sample1.jpg'\u001b[0m\u001b[0;34m)\u001b[0m\u001b[0;34m\u001b[0m\u001b[0m\n\u001b[1;32m     10\u001b[0m frame = cv2.resize(frame, None, fx=scaling_factor,\n\u001b[0;32m---> 11\u001b[0;31m                    fy=scaling_factor, interpolation=cv2.INTER_AREA)\n\u001b[0m\u001b[1;32m     12\u001b[0m \u001b[0mgray\u001b[0m \u001b[0;34m=\u001b[0m \u001b[0mcv2\u001b[0m\u001b[0;34m.\u001b[0m\u001b[0mcvtColor\u001b[0m\u001b[0;34m(\u001b[0m\u001b[0mframe\u001b[0m\u001b[0;34m,\u001b[0m \u001b[0mcv2\u001b[0m\u001b[0;34m.\u001b[0m\u001b[0mCOLOR_BGR2GRAY\u001b[0m\u001b[0;34m)\u001b[0m\u001b[0;34m\u001b[0m\u001b[0m\n\u001b[1;32m     13\u001b[0m \u001b[0mface_rects\u001b[0m \u001b[0;34m=\u001b[0m \u001b[0mface_cascade\u001b[0m\u001b[0;34m.\u001b[0m\u001b[0mdetectMultiScale\u001b[0m\u001b[0;34m(\u001b[0m\u001b[0mgray\u001b[0m\u001b[0;34m,\u001b[0m \u001b[0;36m1.3\u001b[0m\u001b[0;34m,\u001b[0m \u001b[0;36m5\u001b[0m\u001b[0;34m)\u001b[0m\u001b[0;34m\u001b[0m\u001b[0m\n",
      "\u001b[0;31merror\u001b[0m: OpenCV(3.4.3) /Users/travis/build/skvark/opencv-python/opencv/modules/imgproc/src/resize.cpp:4044: error: (-215:Assertion failed) !ssize.empty() in function 'resize'\n"
     ]
    }
   ],
   "source": [
    "import cv2\n",
    "import numpy as np\n",
    "\n",
    "face_cascade = cv2.CascadeClassifier(\n",
    "    './data/haarcascades/haarcascade_frontalface_alt.xml')\n",
    "cap = cv2.VideoCapture(0)\n",
    "scaling_factor = 0.5\n",
    "\n",
    "frame = cv2.imread('./sample1.jpg')\n",
    "frame = cv2.resize(frame, None, fx=scaling_factor,\n",
    "                   fy=scaling_factor, interpolation=cv2.INTER_AREA)\n",
    "gray = cv2.cvtColor(frame, cv2.COLOR_BGR2GRAY)\n",
    "face_rects = face_cascade.detectMultiScale(gray, 1.3, 5)\n",
    "for (x, y, w, h) in face_rects:\n",
    "    cv2.rectangle(frame, (x, y), (x+w, y+h), (0, 255, 0), 3)\n",
    "cv2.imshow('Face Detector', frame)\n",
    "c = cv2.waitKey(0)"
   ]
  },
  {
   "cell_type": "code",
   "execution_count": 4,
   "metadata": {},
   "outputs": [
    {
     "ename": "AttributeError",
     "evalue": "'NoneType' object has no attribute 'shape'",
     "output_type": "error",
     "traceback": [
      "\u001b[0;31m---------------------------------------------------------------------------\u001b[0m",
      "\u001b[0;31mAttributeError\u001b[0m                            Traceback (most recent call last)",
      "\u001b[0;32m<ipython-input-4-c37ec56294a6>\u001b[0m in \u001b[0;36m<module>\u001b[0;34m\u001b[0m\n\u001b[1;32m      2\u001b[0m \u001b[0;34m\u001b[0m\u001b[0m\n\u001b[1;32m      3\u001b[0m \u001b[0mface_mask\u001b[0m \u001b[0;34m=\u001b[0m \u001b[0mcv2\u001b[0m\u001b[0;34m.\u001b[0m\u001b[0mimread\u001b[0m\u001b[0;34m(\u001b[0m\u001b[0;34m'./images/mask_hannibal.png'\u001b[0m\u001b[0;34m)\u001b[0m\u001b[0;34m\u001b[0m\u001b[0m\n\u001b[0;32m----> 4\u001b[0;31m \u001b[0mh_mask\u001b[0m\u001b[0;34m,\u001b[0m \u001b[0mw_mask\u001b[0m \u001b[0;34m=\u001b[0m \u001b[0mface_mask\u001b[0m\u001b[0;34m.\u001b[0m\u001b[0mshape\u001b[0m\u001b[0;34m[\u001b[0m\u001b[0;34m:\u001b[0m\u001b[0;36m2\u001b[0m\u001b[0;34m]\u001b[0m\u001b[0;34m\u001b[0m\u001b[0m\n\u001b[0m\u001b[1;32m      5\u001b[0m \u001b[0mcv2\u001b[0m\u001b[0;34m.\u001b[0m\u001b[0mimshow\u001b[0m\u001b[0;34m(\u001b[0m\u001b[0;34m'Face Detector'\u001b[0m\u001b[0;34m,\u001b[0m \u001b[0mface_mask\u001b[0m\u001b[0;34m)\u001b[0m\u001b[0;34m\u001b[0m\u001b[0m\n\u001b[1;32m      6\u001b[0m \u001b[0mc\u001b[0m \u001b[0;34m=\u001b[0m \u001b[0mcv2\u001b[0m\u001b[0;34m.\u001b[0m\u001b[0mwaitKey\u001b[0m\u001b[0;34m(\u001b[0m\u001b[0;36m0\u001b[0m\u001b[0;34m)\u001b[0m\u001b[0;34m\u001b[0m\u001b[0m\n",
      "\u001b[0;31mAttributeError\u001b[0m: 'NoneType' object has no attribute 'shape'"
     ]
    }
   ],
   "source": [
    "import cv2\n",
    "\n",
    "face_mask = cv2.imread('./images/mask_hannibal.png')\n",
    "h_mask, w_mask = face_mask.shape[:2]\n",
    "cv2.imshow('Face Detector', face_mask)\n",
    "c = cv2.waitKey(0)"
   ]
  },
  {
   "cell_type": "code",
   "execution_count": 1,
   "metadata": {},
   "outputs": [
    {
     "data": {
      "text/plain": [
       "'3.4.3'"
      ]
     },
     "execution_count": 1,
     "metadata": {},
     "output_type": "execute_result"
    }
   ],
   "source": [
    "import cv2\n",
    "cv2.__version__"
   ]
  },
  {
   "cell_type": "code",
   "execution_count": null,
   "metadata": {},
   "outputs": [],
   "source": []
  }
 ],
 "metadata": {
  "kernelspec": {
   "display_name": "Python 3",
   "language": "python",
   "name": "python3"
  },
  "language_info": {
   "codemirror_mode": {
    "name": "ipython",
    "version": 3
   },
   "file_extension": ".py",
   "mimetype": "text/x-python",
   "name": "python",
   "nbconvert_exporter": "python",
   "pygments_lexer": "ipython3",
   "version": "3.5.0"
  }
 },
 "nbformat": 4,
 "nbformat_minor": 2
}
