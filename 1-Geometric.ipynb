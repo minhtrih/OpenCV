{
 "cells": [
  {
   "cell_type": "code",
   "execution_count": 1,
   "metadata": {},
   "outputs": [],
   "source": [
    "import cv2\n",
    "import numpy as np\n",
    "import math\n",
    "img = cv2.imread('./sample1.jpg', cv2.IMREAD_GRAYSCALE)"
   ]
  },
  {
   "cell_type": "markdown",
   "metadata": {},
   "source": [
    "### Image color spaces"
   ]
  },
  {
   "cell_type": "code",
   "execution_count": null,
   "metadata": {},
   "outputs": [],
   "source": [
    "gray_img = cv2.cvtColor(img, cv2.COLOR_BGR2GRAY)\n",
    "cv2.imshow('Grayscale image', gray_img)\n",
    "cv2.waitKey()"
   ]
  },
  {
   "cell_type": "code",
   "execution_count": null,
   "metadata": {},
   "outputs": [],
   "source": [
    "yuv_img = cv2.cvtColor(img, cv2.COLOR_BGR2YUV)\n",
    "cv2.imshow('YUV channel', yuv_img)\n",
    "cv2.imshow('Y channel', yuv_img[:, :, 0])\n",
    "cv2.imshow('U channel', yuv_img[:, :, 1])\n",
    "cv2.imshow('V channel', yuv_img[:, :, 2])\n",
    "cv2.waitKey()"
   ]
  },
  {
   "cell_type": "code",
   "execution_count": null,
   "metadata": {},
   "outputs": [],
   "source": [
    "hsv_img = cv2.cvtColor(img, cv2.COLOR_BGR2HSV)\n",
    "cv2.imshow('HSV image', hsv_img)\n",
    "cv2.imshow('H channel', hsv_img[:, :, 0])\n",
    "cv2.imshow('S channel', hsv_img[:, :, 1])\n",
    "cv2.imshow('V channel', hsv_img[:, :, 2])\n",
    "cv2.waitKey()"
   ]
  },
  {
   "cell_type": "markdown",
   "metadata": {},
   "source": [
    "### Image translation"
   ]
  },
  {
   "cell_type": "code",
   "execution_count": null,
   "metadata": {},
   "outputs": [],
   "source": [
    "num_rows, num_cols = img.shape[:2]\n",
    "translation_matrix = np.float32([ [1,0,70], [0,1,110] ])\n",
    "img_translation = cv2.warpAffine(img, translation_matrix, (num_cols,\n",
    "num_rows))\n",
    "cv2.imshow('Translation', img_translation)\n",
    "cv2.waitKey()"
   ]
  },
  {
   "cell_type": "code",
   "execution_count": null,
   "metadata": {},
   "outputs": [],
   "source": [
    "num_rows, num_cols = img.shape[:2]\n",
    "translation_matrix = np.float32([ [1,0,70], [0,1,110] ])\n",
    "img_translation = cv2.warpAffine(img, translation_matrix, (num_cols +\n",
    "70, num_rows + 110))\n",
    "translation_matrix = np.float32([ [1,0,-30], [0,1,-50] ])\n",
    "img_translation = cv2.warpAffine(img_translation, translation_matrix,\n",
    "(num_cols + 70 + 30, num_rows + 110 + 50))\n",
    "cv2.imshow('Translation', img_translation)\n",
    "cv2.waitKey()"
   ]
  },
  {
   "cell_type": "markdown",
   "metadata": {},
   "source": [
    "### Image rotation"
   ]
  },
  {
   "cell_type": "code",
   "execution_count": null,
   "metadata": {},
   "outputs": [],
   "source": [
    "num_rows, num_cols = img.shape[:2]\n",
    "rotation_matrix = cv2.getRotationMatrix2D((num_cols/2, num_rows/2),\n",
    "30, 1)\n",
    "img_rotation = cv2.warpAffine(img, rotation_matrix, (num_cols, num_rows))\n",
    "cv2.imshow('Rotation', img_rotation)\n",
    "cv2.waitKey()"
   ]
  },
  {
   "cell_type": "markdown",
   "metadata": {},
   "source": [
    "### Affine transformations"
   ]
  },
  {
   "cell_type": "code",
   "execution_count": null,
   "metadata": {},
   "outputs": [],
   "source": [
    "rows, cols = img.shape[:2]\n",
    "src_points = np.float32([[0,0], [cols-1,0], [0,rows-1]])\n",
    "dst_points = np.float32([[0,0], [int(0.6*(cols-1)),0], [int(0.4*(cols-1)),rows-1]])\n",
    "affine_matrix = cv2.getAffineTransform(src_points, dst_points)\n",
    "img_output = cv2.warpAffine(img, affine_matrix, (cols,rows))\n",
    "cv2.imshow('Input', img)\n",
    "cv2.imshow('Output', img_output)\n",
    "cv2.waitKey()"
   ]
  },
  {
   "cell_type": "code",
   "execution_count": null,
   "metadata": {},
   "outputs": [],
   "source": [
    "rows, cols = img.shape[:2]\n",
    "src_points = np.float32([[0,0], [cols-1,0], [0,rows-1]])\n",
    "dst_points = np.float32([[cols-1,0], [0,0], [cols-1,rows-1]])\n",
    "affine_matrix = cv2.getAffineTransform(src_points, dst_points)\n",
    "img_output = cv2.warpAffine(img, affine_matrix, (cols,rows))\n",
    "cv2.imshow('Input', img)\n",
    "cv2.imshow('Output', img_output)\n",
    "cv2.waitKey()"
   ]
  },
  {
   "cell_type": "code",
   "execution_count": null,
   "metadata": {},
   "outputs": [],
   "source": [
    "rows, cols = img.shape[:2]\n",
    "src_points = np.float32([[0,0], [0,rows-1], [cols/2,0],\n",
    "[cols/2,rows-1]])\n",
    "dst_points = np.float32([[0,100], [0,rows-101], [cols/2,0],\n",
    "[cols/2,rows-1]])\n",
    "projective_matrix = cv2.getPerspectiveTransform(src_points, dst_points)\n",
    "img_output = cv2.warpPerspective(img, projective_matrix, (cols,rows))\n",
    "cv2.imshow('Input', img)\n",
    "cv2.imshow('Output', img_output)\n",
    "cv2.waitKey()"
   ]
  },
  {
   "cell_type": "markdown",
   "metadata": {},
   "source": [
    "### Image warping\n",
    "\n",
    "Vertical wave"
   ]
  },
  {
   "cell_type": "code",
   "execution_count": null,
   "metadata": {},
   "outputs": [],
   "source": [
    "rows, cols = img.shape\n",
    "img_output = np.zeros(img.shape, dtype=img.dtype)\n",
    "for i in range(rows):\n",
    "   for j in range(cols):\n",
    "       offset_x = int(25.0 * math.sin(2 * 3.14 * i / 180))\n",
    "       offset_y = 0\n",
    "       if j+offset_x < rows:\n",
    "           img_output[i,j] = img[i,(j+offset_x)%cols]\n",
    "       else:\n",
    "           img_output[i,j] = 0\n",
    "# cv2.imshow('Input', img)\n",
    "cv2.imshow('Vertical wave', img_output)\n",
    "cv2.waitKey()"
   ]
  },
  {
   "cell_type": "markdown",
   "metadata": {},
   "source": [
    "Horizontal wave"
   ]
  },
  {
   "cell_type": "code",
   "execution_count": 2,
   "metadata": {},
   "outputs": [
    {
     "data": {
      "text/plain": [
       "0"
      ]
     },
     "execution_count": 2,
     "metadata": {},
     "output_type": "execute_result"
    }
   ],
   "source": [
    "rows, cols = img.shape\n",
    "img_output = np.zeros(img.shape, dtype=img.dtype)\n",
    "for i in range(rows):\n",
    "   for j in range(cols):\n",
    "       offset_x = 0\n",
    "       offset_y = int(25.0 * math.sin(2 * 3.14 * i / 180))\n",
    "       if j+offset_x < rows:\n",
    "           img_output[i,j] = img[(i+offset_y)%rows,j]\n",
    "       else:\n",
    "           img_output[i,j] = 0\n",
    "# cv2.imshow('Input', img)\n",
    "cv2.imshow('Horizontal wave', img_output)\n",
    "cv2.waitKey()"
   ]
  },
  {
   "cell_type": "markdown",
   "metadata": {},
   "source": [
    "Both horizontal and vertical"
   ]
  },
  {
   "cell_type": "code",
   "execution_count": null,
   "metadata": {},
   "outputs": [],
   "source": [
    "rows, cols = img.shape\n",
    "img_output = np.zeros(img.shape, dtype=img.dtype)\n",
    "for i in range(rows):\n",
    "    for j in range(cols):\n",
    "        offset_x = int(20.0 * math.sin(2 * 3.14 * i / 150))\n",
    "        offset_y = int(20.0 * math.cos(2 * 3.14 * j / 150))\n",
    "        if i+offset_y < rows and j+offset_x < cols:\n",
    "            img_output[i,j] = img[(i+offset_y)%rows,(j+offset_x)%cols]\n",
    "        else:\n",
    "            img_output[i,j] = 0\n",
    "cv2.imshow('Multidirectional wave', img_output)\n",
    "cv2.waitKey()"
   ]
  },
  {
   "cell_type": "code",
   "execution_count": null,
   "metadata": {},
   "outputs": [],
   "source": [
    "rows, cols = img.shape\n",
    "img_output = np.zeros(img.shape, dtype=img.dtype)\n",
    "for i in range(rows):\n",
    "    for j in range(cols):\n",
    "        offset_x = int(128.0 * math.sin(2 * 3.14 * i / (2*cols)))\n",
    "        offset_y = 0\n",
    "        if j+offset_x < cols:\n",
    "            img_output[i,j] = img[i,(j+offset_x)%cols]\n",
    "        else:\n",
    "            img_output[i,j] = 0\n",
    "cv2.imshow('Concave', img_output)\n",
    "cv2.waitKey()"
   ]
  },
  {
   "cell_type": "code",
   "execution_count": null,
   "metadata": {},
   "outputs": [],
   "source": []
  }
 ],
 "metadata": {
  "kernelspec": {
   "display_name": "Python 3",
   "language": "python",
   "name": "python3"
  },
  "language_info": {
   "codemirror_mode": {
    "name": "ipython",
    "version": 3
   },
   "file_extension": ".py",
   "mimetype": "text/x-python",
   "name": "python",
   "nbconvert_exporter": "python",
   "pygments_lexer": "ipython3",
   "version": "3.5.0"
  }
 },
 "nbformat": 4,
 "nbformat_minor": 2
}
